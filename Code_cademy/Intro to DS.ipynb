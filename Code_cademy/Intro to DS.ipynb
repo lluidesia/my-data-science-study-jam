{
 "cells": [
  {
   "cell_type": "markdown",
   "metadata": {},
   "source": [
    "SQL\n",
    "\n",
    "Exploring Data with SQL - Continued\n",
    "\n",
    "Next, Catherine wants to take a look at the churn rate.\n",
    "\n",
    "Churn rate is the percent of subscribers to a monthly service who have canceled. For example, in January, Codecademy had 1,000 learners. In February, 200 learners sign up, and 250 cancel.\n",
    "\n",
    "The churn rate for February would be: \n",
    "cancellations/total subscribers\n",
    "\n",
    "Catherine wants to analyze the churn rates for Codecademy for the past few months so she writes another SQL query.\n",
    "\n",
    "\n",
    "1.\n",
    "\n",
    "Click Run, to see Catherine's analysis for the churn rate in March 2017.\n",
    "\n",
    "What recommendations would you make to Codecademy based on Catherine's analysis?\n",
    "\n",
    "(This query might take some time to load because the pro_users table has 118,135 rows!)\n",
    "\n"
   ]
  },
  {
   "cell_type": "code",
   "execution_count": 2,
   "metadata": {},
   "outputs": [
    {
     "ename": "SyntaxError",
     "evalue": "invalid syntax (<ipython-input-2-3fd7b1fdc604>, line 2)",
     "output_type": "error",
     "traceback": [
      "\u001b[0;36m  File \u001b[0;32m\"<ipython-input-2-3fd7b1fdc604>\"\u001b[0;36m, line \u001b[0;32m2\u001b[0m\n\u001b[0;31m    SELECT COUNT(DISTINCT user_id) AS 'enrollments',\u001b[0m\n\u001b[0m               ^\u001b[0m\n\u001b[0;31mSyntaxError\u001b[0m\u001b[0;31m:\u001b[0m invalid syntax\n"
     ]
    }
   ],
   "source": [
    "\n",
    "SELECT COUNT(DISTINCT user_id) AS 'enrollments',\n",
    "  COUNT(CASE\n",
    "       \tWHEN strftime(\"%m\", cancel_date) = '03'\n",
    "        THEN user_id\n",
    "  END) AS 'march_cancellations',\n",
    " \tROUND(100.0 * COUNT(CASE\n",
    "       \tWHEN strftime(\"%m\", cancel_date) = '03'\n",
    "        THEN user_id\n",
    "  END) / COUNT(DISTINCT user_id)) AS 'churn_rate'\n",
    "FROM pro_users\n",
    "WHERE signup_date < '2017-04-01'\n",
    "\tAND (\n",
    "    (cancel_date IS NULL) OR\n",
    "    (cancel_date > '2017-03-01')\n",
    "  );\n",
    "\n"
   ]
  },
  {
   "cell_type": "markdown",
   "metadata": {},
   "source": [
    "Python\n",
    "\n",
    "script.py\n"
   ]
  },
  {
   "cell_type": "code",
   "execution_count": 3,
   "metadata": {},
   "outputs": [
    {
     "name": "stdout",
     "output_type": "stream",
     "text": [
      "[('NumPy', 100), ('SciPy', 100), ('Pandas', 96), ('Matplotlib', 0), ('Seaborn', 0), ('scikit-learn', 0)]\n",
      "\n",
      "\n"
     ]
    }
   ],
   "source": [
    "libraries = [\"NumPy\", \"SciPy\", \"Pandas\", \"Matplotlib\", \"Seaborn\"]\n",
    "completion = [100, 100, 96, 0, 0]\n",
    "\n",
    "libraries.append(\"scikit-learn\")\n",
    "completion.append(0)\n",
    "\n",
    "gradebook = list(zip(libraries, completion))\n",
    "\n",
    "print(gradebook)\n",
    "print(\"\\n\")\n",
    "\n",
    "# What's next?\n",
    "\n",
    "# gradebook.append((\"BeautifulSoup\", 0))\n",
    "# gradebook.append((\"Tensorflow\", 0))"
   ]
  },
  {
   "cell_type": "code",
   "execution_count": 4,
   "metadata": {},
   "outputs": [
    {
     "ename": "ModuleNotFoundError",
     "evalue": "No module named 'codecademylib3_seaborn'",
     "output_type": "error",
     "traceback": [
      "\u001b[0;31m---------------------------------------------------------------------------\u001b[0m",
      "\u001b[0;31mModuleNotFoundError\u001b[0m                       Traceback (most recent call last)",
      "\u001b[0;32m<ipython-input-4-87003950caa5>\u001b[0m in \u001b[0;36m<module>\u001b[0;34m()\u001b[0m\n\u001b[0;32m----> 1\u001b[0;31m \u001b[0;32mimport\u001b[0m \u001b[0mcodecademylib3_seaborn\u001b[0m\u001b[0;34m\u001b[0m\u001b[0m\n\u001b[0m\u001b[1;32m      2\u001b[0m \u001b[0;32mimport\u001b[0m \u001b[0mpandas\u001b[0m \u001b[0;32mas\u001b[0m \u001b[0mpd\u001b[0m\u001b[0;34m\u001b[0m\u001b[0m\n\u001b[1;32m      3\u001b[0m \u001b[0;34m\u001b[0m\u001b[0m\n\u001b[1;32m      4\u001b[0m \u001b[0;31m# Paste code here:\u001b[0m\u001b[0;34m\u001b[0m\u001b[0;34m\u001b[0m\u001b[0m\n\u001b[1;32m      5\u001b[0m \u001b[0;34m\u001b[0m\u001b[0m\n",
      "\u001b[0;31mModuleNotFoundError\u001b[0m: No module named 'codecademylib3_seaborn'"
     ]
    }
   ],
   "source": [
    "import codecademylib3_seaborn\n",
    "import pandas as pd\n",
    "\n",
    "# Paste code here:\n",
    "\n",
    "\n",
    "# Load data\n",
    "df = pd.read_csv('page_visits.csv')\n",
    "\n",
    "# Display data\n",
    "print(df.head())"
   ]
  },
  {
   "cell_type": "markdown",
   "metadata": {},
   "source": [
    "Visualizing Data with Matplotlib and Seaborn\n",
    "\n",
    "Catherine wants to visualize her analysis and share it with her boss. For this, she will use Matplotlib, another Python module.\n",
    "\n",
    "Matplotlib lets Catherine create line charts, bar charts, pie charts, and more. It gives her precise control over colors and labels so that she can create the perfect chart to communicate her findings.\n",
    "\n",
    "Catherine has written some code using Matplotlib that visualizes hours of usage on Codecademy!\n"
   ]
  },
  {
   "cell_type": "code",
   "execution_count": null,
   "metadata": {},
   "outputs": [],
   "source": [
    "import codecademylib3_seaborn\n",
    "from matplotlib import pyplot as plt\n",
    "import numpy as np\n",
    "import pandas as pd\n",
    "\n",
    "hour = range(24)\n",
    "\n",
    "viewers_hour = [30, 17, 34, 29, 19, 14, 3, 2, 4, 9, 5, 48, 62, 58, 40, 51, 69, 55, 76, 81, 102, 120, 71, 63]\n",
    "\n",
    "plt.title(\"Codecademy Learners Time Series\")\n",
    "\n",
    "plt.xlabel(\"Hour\")\n",
    "plt.ylabel(\"Viewers\")\n",
    "\n",
    "plt.plot(hour, viewers_hour)\n",
    "\n",
    "plt.legend(['2015-01-01'])\n",
    "\n",
    "ax = plt.subplot()\n",
    "\n",
    "ax.set_facecolor('seashell')\n",
    "\n",
    "ax.set_xticks(hour)\n",
    "ax.set_yticks([0, 20, 40, 60, 80, 100, 120])\n",
    "\n",
    "y_upper = [i + (i*0.15) for i in viewers_hour]\n",
    "y_lower = [i - (i*0.15) for i in viewers_hour]\n",
    "\n",
    "plt.fill_between(hour, y_lower, y_upper, alpha=0.2)\n",
    "\n",
    "# Add the code here:\n",
    "plt.show()"
   ]
  },
  {
   "cell_type": "markdown",
   "metadata": {},
   "source": [
    "Machine Learning\n",
    "\n",
    "Machine Learning is the science of getting computers to learn and act like humans do, and improve their learning over time in autonomous fashion, by feeding them data and information in the form of observations and real-world interactions. It has taken the Data Science world by storm.\n",
    "\n",
    "It can be branched out into the following categories:\n",
    "\n",
    "    Supervised Learning\n",
    "    Unsupervised Learning\n",
    "\n",
    "Supervised Learning is when the data is labeled and the program learns to predict the output from the input data. For instance, a supervised learning algorithm for credit card fraud detection would take as input a set of recorded transactions. It would learn what makes a transaction likely to be fraudulent. Then, for each new transaction, the program would predict if it is fraudulent or not.\n",
    "\n",
    "Unsupervised Learning is where the data is unlabeled and the program learns to recognize the inherent structure of the input data. For the same fraud example, the model would take in a bunch of transactions with no indication of if they are fraudulent or not, and it would group them based on patterns it sees. It might discover two groups, fraudulent and legitimate.\n",
    "\n",
    "\n",
    "Codecademy's mobile app just launched in the App Store and Catherine just got some data!\n",
    "\n",
    "She used an unsupervised learning algorithm to build a model that groups Codecademy mobile users into two groups.\n",
    "\n"
   ]
  },
  {
   "cell_type": "code",
   "execution_count": 9,
   "metadata": {},
   "outputs": [
    {
     "ename": "ModuleNotFoundError",
     "evalue": "No module named 'codecademylib3_seaborn'",
     "output_type": "error",
     "traceback": [
      "\u001b[0;31m---------------------------------------------------------------------------\u001b[0m",
      "\u001b[0;31mModuleNotFoundError\u001b[0m                       Traceback (most recent call last)",
      "\u001b[0;32m<ipython-input-9-307ab67ee5ad>\u001b[0m in \u001b[0;36m<module>\u001b[0;34m()\u001b[0m\n\u001b[0;32m----> 1\u001b[0;31m \u001b[0;32mimport\u001b[0m \u001b[0mcodecademylib3_seaborn\u001b[0m\u001b[0;34m\u001b[0m\u001b[0m\n\u001b[0m\u001b[1;32m      2\u001b[0m \u001b[0;32mimport\u001b[0m \u001b[0mmatplotlib\u001b[0m\u001b[0;34m.\u001b[0m\u001b[0mpyplot\u001b[0m \u001b[0;32mas\u001b[0m \u001b[0mplt\u001b[0m\u001b[0;34m\u001b[0m\u001b[0m\n\u001b[1;32m      3\u001b[0m \u001b[0;32mimport\u001b[0m \u001b[0mnumpy\u001b[0m \u001b[0;32mas\u001b[0m \u001b[0mnp\u001b[0m\u001b[0;34m\u001b[0m\u001b[0m\n\u001b[1;32m      4\u001b[0m \u001b[0;32mimport\u001b[0m \u001b[0mpandas\u001b[0m \u001b[0;32mas\u001b[0m \u001b[0mpd\u001b[0m\u001b[0;34m\u001b[0m\u001b[0m\n\u001b[1;32m      5\u001b[0m \u001b[0;32mfrom\u001b[0m \u001b[0msklearn\u001b[0m\u001b[0;34m.\u001b[0m\u001b[0mcluster\u001b[0m \u001b[0;32mimport\u001b[0m \u001b[0mKMeans\u001b[0m\u001b[0;34m\u001b[0m\u001b[0m\n",
      "\u001b[0;31mModuleNotFoundError\u001b[0m: No module named 'codecademylib3_seaborn'"
     ]
    }
   ],
   "source": [
    "import codecademylib3_seaborn\n",
    "import matplotlib.pyplot as plt\n",
    "import numpy as np\n",
    "import pandas as pd\n",
    "from sklearn.cluster import KMeans\n",
    "\n",
    "mu = 1\n",
    "std = 0.5\n",
    "mu2 = 4.188\n",
    "\n",
    "np.random.seed(100)\n",
    "\n",
    "xs = np.append(np.append(np.append(np.random.normal(0.25,std,100), np.random.normal(0.75,std,100)), np.random.normal(0.25,std,100)), np.random.normal(0.75,std,100))\n",
    "\n",
    "ys = np.append(np.append(np.append(np.random.normal(0.25,std,100), np.random.normal(0.25,std,100)), np.random.normal(0.75,std,100)), np.random.normal(0.75,std,100))\n",
    "\n",
    "values = list(zip(xs, ys))\n",
    "\n",
    "model = KMeans(init='random', n_clusters=2)\n",
    "\n",
    "results = model.fit_predict(values)\n",
    "\n",
    "plt.scatter(xs, ys, c=results, alpha=0.6)\n",
    "\n",
    "colors = ['#6400e4', '#ffc740']\n",
    "\n",
    "for i in range(2):\n",
    "  points = np.array([values[j] for j in range(len(values)) if results[j] == i])\n",
    "  plt.scatter(points[:, 0], points[:, 1], c=colors[i], alpha=0.6)\n",
    "  \n",
    "plt.title('Codecademy Mobile Feedback - Data Science')\n",
    "\n",
    "plt.xlabel('Learn Python')\n",
    "plt.ylabel('Learn SQL')\n",
    "  \n",
    "plt.show()"
   ]
  },
  {
   "cell_type": "code",
   "execution_count": null,
   "metadata": {},
   "outputs": [],
   "source": []
  },
  {
   "cell_type": "code",
   "execution_count": null,
   "metadata": {},
   "outputs": [],
   "source": []
  },
  {
   "cell_type": "code",
   "execution_count": null,
   "metadata": {},
   "outputs": [],
   "source": []
  },
  {
   "cell_type": "code",
   "execution_count": null,
   "metadata": {},
   "outputs": [],
   "source": []
  }
 ],
 "metadata": {
  "kernelspec": {
   "display_name": "Python 3",
   "language": "python",
   "name": "python3"
  },
  "language_info": {
   "codemirror_mode": {
    "name": "ipython",
    "version": 3
   },
   "file_extension": ".py",
   "mimetype": "text/x-python",
   "name": "python",
   "nbconvert_exporter": "python",
   "pygments_lexer": "ipython3",
   "version": "3.6.5"
  }
 },
 "nbformat": 4,
 "nbformat_minor": 2
}
