{
 "cells": [
  {
   "cell_type": "code",
   "execution_count": 2,
   "metadata": {
    "collapsed": true
   },
   "outputs": [],
   "source": [
    "import numpy as np\n",
    "import pandas as pd\n",
    "import seaborn as sns\n",
    "\n",
    "from scipy.stats import pearsonr\n",
    "\n",
    "%matplotlib inline"
   ]
  },
  {
   "cell_type": "code",
   "execution_count": null,
   "metadata": {
    "collapsed": true
   },
   "outputs": [],
   "source": []
  },
  {
   "cell_type": "markdown",
   "metadata": {},
   "source": [
    "##### Понятие линейной корреляции (коэффициента Пирсона)"
   ]
  },
  {
   "cell_type": "markdown",
   "metadata": {},
   "source": [
    "Пусть $X, Y$ — две случайные величины\n",
    "\n",
    "Формула коэффициента Пирсона:\n",
    "<br>\n",
    "<br>\n",
    "$ \\rho_{X, Y}= \\frac{cov(X, Y)}{\\sigma_X\\sigma_Y} $\n",
    "<br>\n",
    "<br>\n",
    "Знаменатель в этой формуле используется исключительно для приведения значения коэффициента к интервалу $[-1, 1]$, поэтому перейдем к числителю с ковариацией между величинами."
   ]
  },
  {
   "cell_type": "markdown",
   "metadata": {},
   "source": [
    "**Ковариация** — мера совместной изменчивости двух случайных величин, то есть: если ковариация положительна, то с ростом значений одной случайной величины, значения второй имеют тенденцию возрастать, а если знак отрицательный — то убывать.\n",
    "\n",
    "$cov(X, Y) = E[(X - \\mu_X)(Y - \\mu_Y)]$\n",
    "\n",
    "В случае с выборками, взятыми из какого-то распределения, имеем:\n",
    "\n",
    "$cov(X_{(n)}, Y_{(n)}) = \\frac{1}{n}\\sum_{t=1}^{n}(X_t-\\bar{X})(Y_t-\\bar{Y})$\n",
    "\n",
    "где $\\bar{X}$ и $\\bar{Y}$ - средние значения выборок\n",
    "\n",
    "Ковариация будет нулевой, если величины полностью независимы, единичной -- если между ними существует строгая линейная зависимость."
   ]
  },
  {
   "cell_type": "markdown",
   "metadata": {},
   "source": [
    "##### Напишем функцию для расчета коэффициента корреляции Пирсона"
   ]
  },
  {
   "cell_type": "code",
   "execution_count": 3,
   "metadata": {
    "collapsed": true
   },
   "outputs": [],
   "source": [
    "def pearson_correlation(x, y):\n",
    "    # Мы не можем рассчитать корреляцию, если векторы разной длины\n",
    "    assert len(x) == len(y)\n",
    "    \n",
    "    # Высчитываем ковариацию по формуле\n",
    "    n = len(x)\n",
    "    s = 0\n",
    "    mju_x = np.mean(x)\n",
    "    mju_y = np.mean(y)\n",
    "    for i in range(n):\n",
    "        s += (x[i] - mju_x) * (y[i] - mju_y)\n",
    "        \n",
    "    covariance = s / n\n",
    "    \n",
    "    return np.round(covariance / (np.std(x) * np.std(y)), 5)"
   ]
  },
  {
   "cell_type": "code",
   "execution_count": null,
   "metadata": {
    "collapsed": true
   },
   "outputs": [],
   "source": []
  },
  {
   "cell_type": "markdown",
   "metadata": {},
   "source": [
    "##### Сгенерируем случайные вектора"
   ]
  },
  {
   "cell_type": "code",
   "execution_count": 4,
   "metadata": {
    "collapsed": true
   },
   "outputs": [],
   "source": [
    "np.random.seed(42)\n",
    "\n",
    "random_variable_one = np.random.rand(1000)\n",
    "random_variable_two = np.random.rand(1000)"
   ]
  },
  {
   "cell_type": "code",
   "execution_count": 5,
   "metadata": {},
   "outputs": [
    {
     "name": "stdout",
     "output_type": "stream",
     "text": [
      "0.02931\n"
     ]
    }
   ],
   "source": [
    "print(pearson_correlation(random_variable_one, random_variable_two))"
   ]
  },
  {
   "cell_type": "markdown",
   "metadata": {},
   "source": [
    "Видим, что наша функция работает правильно - между собой вектора практически некоррелированны"
   ]
  },
  {
   "cell_type": "code",
   "execution_count": null,
   "metadata": {
    "collapsed": true
   },
   "outputs": [],
   "source": []
  },
  {
   "cell_type": "markdown",
   "metadata": {},
   "source": [
    "##### Cоздадим две одинаковых непрерывных переменных"
   ]
  },
  {
   "cell_type": "code",
   "execution_count": 6,
   "metadata": {},
   "outputs": [
    {
     "name": "stdout",
     "output_type": "stream",
     "text": [
      "1.0\n"
     ]
    }
   ],
   "source": [
    "np.random.seed(42)\n",
    "\n",
    "continuous_variable_one = np.random.rand(1000)\n",
    "continuous_variable_two = continuous_variable_one.copy()\n",
    "\n",
    "assert all(continuous_variable_one == continuous_variable_two)\n",
    "\n",
    "print(pearson_correlation(continuous_variable_one, continuous_variable_two))"
   ]
  },
  {
   "cell_type": "code",
   "execution_count": null,
   "metadata": {
    "collapsed": true
   },
   "outputs": [],
   "source": []
  },
  {
   "cell_type": "markdown",
   "metadata": {},
   "source": [
    "##### Попробуем разбить значения во втором векторе на бины"
   ]
  },
  {
   "cell_type": "code",
   "execution_count": 7,
   "metadata": {},
   "outputs": [
    {
     "name": "stdout",
     "output_type": "stream",
     "text": [
      "100 бинов:\n",
      " 0.99995\n"
     ]
    }
   ],
   "source": [
    "bins = np.linspace(0, 1, 101)\n",
    "continuous_variable_two_digit = np.digitize(continuous_variable_two, bins)\n",
    "print('100 бинов:\\n', pearson_correlation(continuous_variable_one, continuous_variable_two_digit))"
   ]
  },
  {
   "cell_type": "code",
   "execution_count": 8,
   "metadata": {},
   "outputs": [
    {
     "name": "stdout",
     "output_type": "stream",
     "text": [
      "10 бинов:\n",
      " 0.99509\n"
     ]
    }
   ],
   "source": [
    "bins = np.linspace(0, 1, 11)\n",
    "continuous_variable_two_digit = np.digitize(continuous_variable_two, bins)\n",
    "print('10 бинов:\\n', pearson_correlation(continuous_variable_one, continuous_variable_two_digit))"
   ]
  },
  {
   "cell_type": "code",
   "execution_count": 9,
   "metadata": {},
   "outputs": [
    {
     "name": "stdout",
     "output_type": "stream",
     "text": [
      "2 бина:\n",
      " 0.86841\n"
     ]
    }
   ],
   "source": [
    "bins = np.linspace(0, 1, 3)\n",
    "continuous_variable_two_digit = np.digitize(continuous_variable_two, bins)\n",
    "print('2 бина:\\n', pearson_correlation(continuous_variable_one, continuous_variable_two_digit))"
   ]
  },
  {
   "cell_type": "code",
   "execution_count": 10,
   "metadata": {},
   "outputs": [
    {
     "data": {
      "image/png": "[encoded data removed]",
      "text/plain": [
       "<matplotlib.figure.Figure at 0x7f63d0a87f98>"
      ]
     },
     "metadata": {},
     "output_type": "display_data"
    }
   ],
   "source": [
    "sns.boxplot(x=continuous_variable_two_digit, y=continuous_variable_one); # Не забываем подписывать оси ;)"
   ]
  },
  {
   "cell_type": "code",
   "execution_count": null,
   "metadata": {
    "collapsed": true
   },
   "outputs": [],
   "source": []
  },
  {
   "cell_type": "markdown",
   "metadata": {},
   "source": [
    "##### Вывод"
   ]
  },
  {
   "cell_type": "markdown",
   "metadata": {},
   "source": [
    "Можно рассматривать корреляцию между бинарным и непрерывным признаком как корреляцию между двумя непрерывными признаками, где бинарный признак получен из непрерывного путем разделения значений на два бина."
   ]
  },
  {
   "cell_type": "markdown",
   "metadata": {},
   "source": [
    "Таким же образом можно считать корреляцию между ординальными признаками (где порядок имеет значение), **но не между чисто-категориальными, где число категорий > 2**."
   ]
  },
  {
   "cell_type": "markdown",
   "metadata": {},
   "source": [
    "Нужно понимать, что это не золотая пуля выявления закономерностей между двумя величинами, а просто быстрый способ взглянуть на взаимосвязь между переменными. В случае же подозрительных корреляций -- это повод взглянуть на данные повнимательнее."
   ]
  }
 ],
 "metadata": {
  "kernelspec": {
   "display_name": "Python 3",
   "language": "python",
   "name": "python3"
  },
  "language_info": {
   "codemirror_mode": {
    "name": "ipython",
    "version": 3
   },
   "file_extension": ".py",
   "mimetype": "text/x-python",
   "name": "python",
   "nbconvert_exporter": "python",
   "pygments_lexer": "ipython3",
   "version": "3.5.2"
  }
 },
 "nbformat": 4,
 "nbformat_minor": 2
}
